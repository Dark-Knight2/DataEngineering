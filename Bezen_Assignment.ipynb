{
 "cells": [
  {
   "cell_type": "code",
   "execution_count": 1,
   "metadata": {
    "id": "h-OQGPBr9yru"
   },
   "outputs": [],
   "source": [
    "import pandas as pd\n",
    "import numpy as np"
   ]
  },
  {
   "cell_type": "markdown",
   "metadata": {
    "id": "ePpxKX4H1KPD"
   },
   "source": [
    "**Fetching the CSV file**"
   ]
  },
  {
   "cell_type": "code",
   "execution_count": 2,
   "metadata": {
    "colab": {
     "base_uri": "https://localhost:8080/",
     "height": 513
    },
    "id": "haqz7OcX-ZVl",
    "outputId": "344a717f-2757-479a-919c-9bdad20631c3"
   },
   "outputs": [
    {
     "data": {
      "text/html": [
       "<div>\n",
       "<style scoped>\n",
       "    .dataframe tbody tr th:only-of-type {\n",
       "        vertical-align: middle;\n",
       "    }\n",
       "\n",
       "    .dataframe tbody tr th {\n",
       "        vertical-align: top;\n",
       "    }\n",
       "\n",
       "    .dataframe thead th {\n",
       "        text-align: right;\n",
       "    }\n",
       "</style>\n",
       "<table border=\"1\" class=\"dataframe\">\n",
       "  <thead>\n",
       "    <tr style=\"text-align: right;\">\n",
       "      <th></th>\n",
       "      <th>uuid</th>\n",
       "      <th>price_string</th>\n",
       "      <th>price_string_unf</th>\n",
       "      <th>product_type</th>\n",
       "      <th>level_1</th>\n",
       "      <th>category</th>\n",
       "    </tr>\n",
       "  </thead>\n",
       "  <tbody>\n",
       "    <tr>\n",
       "      <th>0</th>\n",
       "      <td>638744a4-b0ae-4166-8cb6-5c063c862036</td>\n",
       "      <td>NaN</td>\n",
       "      <td>NaN</td>\n",
       "      <td>TGFwdG9wIENvdmVycy9CYWdz</td>\n",
       "      <td>TGFwdG9wIENhc2U</td>\n",
       "      <td>RWxlY3Ryb25pY3M</td>\n",
       "    </tr>\n",
       "    <tr>\n",
       "      <th>1</th>\n",
       "      <td>ab313969-02cc-48b2-9daf-0054efb70b92</td>\n",
       "      <td>NaN</td>\n",
       "      <td>NaN</td>\n",
       "      <td>QmFraW5nIEN1cHMgYW5kIE1hdHM</td>\n",
       "      <td>QmFraW5nIE1hdHMgLyBCYWtpbmcgZGlzaA</td>\n",
       "      <td>a2l0Y2hpbmcgYW5kIGRpbmluZw</td>\n",
       "    </tr>\n",
       "    <tr>\n",
       "      <th>2</th>\n",
       "      <td>acbd66ff-79f8-467a-91f9-108a45af5626</td>\n",
       "      <td>$19.95</td>\n",
       "      <td>NaN</td>\n",
       "      <td>R3VtbWllcyB2aXRhbWlucyBhbmQgbWluZXJhbHMgZm9yIG...</td>\n",
       "      <td>SW1tdW5pdHkgZ3VtbWllcw</td>\n",
       "      <td>SGVhbHRo</td>\n",
       "    </tr>\n",
       "    <tr>\n",
       "      <th>3</th>\n",
       "      <td>963915d6-b2e3-4098-b242-9410593cf205</td>\n",
       "      <td>$92.00</td>\n",
       "      <td>NaN</td>\n",
       "      <td>U2VydW1z</td>\n",
       "      <td>RmFjZSBTZXJ1bQ</td>\n",
       "      <td>YmVhdXR5IGFuZCBwZXJzb25hbCBjYXJl</td>\n",
       "    </tr>\n",
       "    <tr>\n",
       "      <th>4</th>\n",
       "      <td>b5b68f3c-b1e0-40e5-8ee5-e2f7236c1daf</td>\n",
       "      <td>11.5</td>\n",
       "      <td>NaN</td>\n",
       "      <td>RWF0aW5nIFV0ZW5zaWxzL0N1dGxlcnk</td>\n",
       "      <td>Q2hvcHN0aWNrcw</td>\n",
       "      <td>a2l0Y2hpbmcgYW5kIGRpbmluZw</td>\n",
       "    </tr>\n",
       "  </tbody>\n",
       "</table>\n",
       "</div>"
      ],
      "text/plain": [
       "                                   uuid price_string price_string_unf  \\\n",
       "0  638744a4-b0ae-4166-8cb6-5c063c862036          NaN              NaN   \n",
       "1  ab313969-02cc-48b2-9daf-0054efb70b92          NaN              NaN   \n",
       "2  acbd66ff-79f8-467a-91f9-108a45af5626       $19.95              NaN   \n",
       "3  963915d6-b2e3-4098-b242-9410593cf205       $92.00              NaN   \n",
       "4  b5b68f3c-b1e0-40e5-8ee5-e2f7236c1daf         11.5              NaN   \n",
       "\n",
       "                                        product_type  \\\n",
       "0                           TGFwdG9wIENvdmVycy9CYWdz   \n",
       "1                        QmFraW5nIEN1cHMgYW5kIE1hdHM   \n",
       "2  R3VtbWllcyB2aXRhbWlucyBhbmQgbWluZXJhbHMgZm9yIG...   \n",
       "3                                           U2VydW1z   \n",
       "4                    RWF0aW5nIFV0ZW5zaWxzL0N1dGxlcnk   \n",
       "\n",
       "                              level_1                          category  \n",
       "0                     TGFwdG9wIENhc2U                   RWxlY3Ryb25pY3M  \n",
       "1  QmFraW5nIE1hdHMgLyBCYWtpbmcgZGlzaA        a2l0Y2hpbmcgYW5kIGRpbmluZw  \n",
       "2              SW1tdW5pdHkgZ3VtbWllcw                          SGVhbHRo  \n",
       "3                      RmFjZSBTZXJ1bQ  YmVhdXR5IGFuZCBwZXJzb25hbCBjYXJl  \n",
       "4                      Q2hvcHN0aWNrcw        a2l0Y2hpbmcgYW5kIGRpbmluZw  "
      ]
     },
     "execution_count": 2,
     "metadata": {},
     "output_type": "execute_result"
    }
   ],
   "source": [
    "df = pd.read_csv('C:/Users/Bhavesh/Desktop/Product.csv')\n",
    "df.head()"
   ]
  },
  {
   "cell_type": "code",
   "execution_count": 3,
   "metadata": {},
   "outputs": [
    {
     "data": {
      "text/plain": [
       "1048575"
      ]
     },
     "execution_count": 3,
     "metadata": {},
     "output_type": "execute_result"
    }
   ],
   "source": [
    "len(df)"
   ]
  },
  {
   "cell_type": "code",
   "execution_count": 4,
   "metadata": {
    "colab": {
     "base_uri": "https://localhost:8080/"
    },
    "id": "U02piz5PCWHJ",
    "outputId": "104a9429-7ee6-489e-e363-27af7a84aac8"
   },
   "outputs": [
    {
     "data": {
      "text/plain": [
       "Index(['uuid', 'price_string', 'price_string_unf', 'product_type', 'level_1',\n",
       "       'category'],\n",
       "      dtype='object')"
      ]
     },
     "execution_count": 4,
     "metadata": {},
     "output_type": "execute_result"
    }
   ],
   "source": [
    "col = df.columns\n",
    "col"
   ]
  },
  {
   "cell_type": "code",
   "execution_count": 5,
   "metadata": {
    "colab": {
     "base_uri": "https://localhost:8080/"
    },
    "id": "Q30x9nKG_bji",
    "outputId": "e07b80a1-2041-4ee7-94a3-51b94ef47d42"
   },
   "outputs": [
    {
     "data": {
      "text/plain": [
       "uuid                1048575\n",
       "price_string         421130\n",
       "price_string_unf      23597\n",
       "product_type        1047809\n",
       "level_1             1044876\n",
       "category            1047809\n",
       "dtype: int64"
      ]
     },
     "execution_count": 5,
     "metadata": {},
     "output_type": "execute_result"
    }
   ],
   "source": [
    "df.count()"
   ]
  },
  {
   "cell_type": "code",
   "execution_count": 6,
   "metadata": {
    "colab": {
     "base_uri": "https://localhost:8080/"
    },
    "id": "_iIKg3o_tMkS",
    "outputId": "9b31f66d-2e4c-49d7-a4e1-221792dc9171"
   },
   "outputs": [
    {
     "name": "stdout",
     "output_type": "stream",
     "text": [
      "<class 'pandas.core.frame.DataFrame'>\n",
      "RangeIndex: 1048575 entries, 0 to 1048574\n",
      "Data columns (total 6 columns):\n",
      " #   Column            Non-Null Count    Dtype \n",
      "---  ------            --------------    ----- \n",
      " 0   uuid              1048575 non-null  object\n",
      " 1   price_string      421130 non-null   object\n",
      " 2   price_string_unf  23597 non-null    object\n",
      " 3   product_type      1047809 non-null  object\n",
      " 4   level_1           1044876 non-null  object\n",
      " 5   category          1047809 non-null  object\n",
      "dtypes: object(6)\n",
      "memory usage: 48.0+ MB\n"
     ]
    }
   ],
   "source": [
    "df.info()"
   ]
  },
  {
   "cell_type": "markdown",
   "metadata": {
    "id": "L6E-m5S53itd"
   },
   "source": [
    "### **Correct Product Prices**"
   ]
  },
  {
   "cell_type": "markdown",
   "metadata": {
    "id": "p7rthlLj52iE"
   },
   "source": [
    "*  Extracting the price value without currency symbol from price_string and storing it into Corrected_Price.\n",
    "*  Used replace function to change ' , ' and '$'.\n",
    "*  Also changed extracted values to 'flaot' data type.\n",
    "\n",
    "\n"
   ]
  },
  {
   "cell_type": "code",
   "execution_count": 8,
   "metadata": {
    "colab": {
     "base_uri": "https://localhost:8080/"
    },
    "id": "Ls9fUtRpfAS1",
    "outputId": "95f71ecc-29a2-4365-b8b7-d50cae88c9c6"
   },
   "outputs": [
    {
     "name": "stderr",
     "output_type": "stream",
     "text": [
      "<ipython-input-8-453422cefb12>:1: FutureWarning: The default value of regex will change from True to False in a future version. In addition, single character regular expressions will*not* be treated as literal strings when regex=True.\n",
      "  df['Corrected_Price'] = df['price_string'].str.replace(',','').str.replace('$','').astype('float')\n"
     ]
    },
    {
     "data": {
      "text/plain": [
       "0      NaN\n",
       "1      NaN\n",
       "2    19.95\n",
       "3    92.00\n",
       "4    11.50\n",
       "Name: Corrected_Price, dtype: float64"
      ]
     },
     "execution_count": 8,
     "metadata": {},
     "output_type": "execute_result"
    }
   ],
   "source": [
    "df['Corrected_Price'] = df['price_string'].str.replace(',','').str.replace('$','').astype('float')\n",
    "df['Corrected_Price'].head()"
   ]
  },
  {
   "cell_type": "code",
   "execution_count": 9,
   "metadata": {
    "colab": {
     "base_uri": "https://localhost:8080/"
    },
    "id": "ddiTu5ct4eF3",
    "outputId": "bc635dc2-5226-4d68-810b-b474353cbe2a"
   },
   "outputs": [
    {
     "data": {
      "text/plain": [
       "0.00      18545\n",
       "89.00      9162\n",
       "75.00      8204\n",
       "9.99       7729\n",
       "80.00      6854\n",
       "          ...  \n",
       "155.85      715\n",
       "35.96       714\n",
       "119.97      705\n",
       "19.56       701\n",
       "20.95       698\n",
       "Name: Corrected_Price, Length: 217, dtype: int64"
      ]
     },
     "execution_count": 9,
     "metadata": {},
     "output_type": "execute_result"
    }
   ],
   "source": [
    "df['Corrected_Price'].value_counts()"
   ]
  },
  {
   "cell_type": "markdown",
   "metadata": {
    "id": "ZxNucVvA3gjz"
   },
   "source": [
    "### **Product without prices**"
   ]
  },
  {
   "cell_type": "markdown",
   "metadata": {},
   "source": [
    "* used the notnull function on Corrected_Price\n",
    "* here we are fetching only values which are null"
   ]
  },
  {
   "cell_type": "code",
   "execution_count": 10,
   "metadata": {
    "colab": {
     "base_uri": "https://localhost:8080/",
     "height": 991
    },
    "id": "Y-zc-PEu3ZO1",
    "outputId": "64f2b4c3-de16-468a-b6c5-b7152bdc8f19"
   },
   "outputs": [
    {
     "data": {
      "text/html": [
       "<div>\n",
       "<style scoped>\n",
       "    .dataframe tbody tr th:only-of-type {\n",
       "        vertical-align: middle;\n",
       "    }\n",
       "\n",
       "    .dataframe tbody tr th {\n",
       "        vertical-align: top;\n",
       "    }\n",
       "\n",
       "    .dataframe thead th {\n",
       "        text-align: right;\n",
       "    }\n",
       "</style>\n",
       "<table border=\"1\" class=\"dataframe\">\n",
       "  <thead>\n",
       "    <tr style=\"text-align: right;\">\n",
       "      <th></th>\n",
       "      <th>uuid</th>\n",
       "      <th>price_string</th>\n",
       "      <th>price_string_unf</th>\n",
       "      <th>product_type</th>\n",
       "      <th>level_1</th>\n",
       "      <th>category</th>\n",
       "      <th>Corrected_Price</th>\n",
       "    </tr>\n",
       "  </thead>\n",
       "  <tbody>\n",
       "    <tr>\n",
       "      <th>0</th>\n",
       "      <td>638744a4-b0ae-4166-8cb6-5c063c862036</td>\n",
       "      <td>NaN</td>\n",
       "      <td>NaN</td>\n",
       "      <td>TGFwdG9wIENvdmVycy9CYWdz</td>\n",
       "      <td>TGFwdG9wIENhc2U</td>\n",
       "      <td>RWxlY3Ryb25pY3M</td>\n",
       "      <td>NaN</td>\n",
       "    </tr>\n",
       "    <tr>\n",
       "      <th>1</th>\n",
       "      <td>ab313969-02cc-48b2-9daf-0054efb70b92</td>\n",
       "      <td>NaN</td>\n",
       "      <td>NaN</td>\n",
       "      <td>QmFraW5nIEN1cHMgYW5kIE1hdHM</td>\n",
       "      <td>QmFraW5nIE1hdHMgLyBCYWtpbmcgZGlzaA</td>\n",
       "      <td>a2l0Y2hpbmcgYW5kIGRpbmluZw</td>\n",
       "      <td>NaN</td>\n",
       "    </tr>\n",
       "    <tr>\n",
       "      <th>5</th>\n",
       "      <td>389d9f75-cc3f-4bd2-94f7-93e381a3bed5</td>\n",
       "      <td>NaN</td>\n",
       "      <td>NaN</td>\n",
       "      <td>TmF0dXJhbCBTd2VldGVuZXJzLyBTdWdhcg</td>\n",
       "      <td>TW9uayBGcnVpdA</td>\n",
       "      <td>Z3JvY2VyaWVz</td>\n",
       "      <td>NaN</td>\n",
       "    </tr>\n",
       "    <tr>\n",
       "      <th>13</th>\n",
       "      <td>1f2766ec-0a27-43f8-b28b-77a44492ead1</td>\n",
       "      <td>NaN</td>\n",
       "      <td>NaN</td>\n",
       "      <td>U2NydWJzIGFuZCBjbGVhbmluZyBjbG90aHM</td>\n",
       "      <td>U2NydWJz</td>\n",
       "      <td>SG91c2Vob2xkIGFuZCBDbGVhbmluZw</td>\n",
       "      <td>NaN</td>\n",
       "    </tr>\n",
       "    <tr>\n",
       "      <th>16</th>\n",
       "      <td>7bad39f5-74b9-4611-afb9-46fb135190cd</td>\n",
       "      <td>NaN</td>\n",
       "      <td>NaN</td>\n",
       "      <td>UGx1cyBzaXplIHdlYXIgZHJlc3M</td>\n",
       "      <td>RHJlc3M</td>\n",
       "      <td>Q2xvdGhpbmcgYW5kIEFjY2Vzc29yaWVz</td>\n",
       "      <td>NaN</td>\n",
       "    </tr>\n",
       "  </tbody>\n",
       "</table>\n",
       "</div>"
      ],
      "text/plain": [
       "                                    uuid price_string price_string_unf  \\\n",
       "0   638744a4-b0ae-4166-8cb6-5c063c862036          NaN              NaN   \n",
       "1   ab313969-02cc-48b2-9daf-0054efb70b92          NaN              NaN   \n",
       "5   389d9f75-cc3f-4bd2-94f7-93e381a3bed5          NaN              NaN   \n",
       "13  1f2766ec-0a27-43f8-b28b-77a44492ead1          NaN              NaN   \n",
       "16  7bad39f5-74b9-4611-afb9-46fb135190cd          NaN              NaN   \n",
       "\n",
       "                           product_type                             level_1  \\\n",
       "0              TGFwdG9wIENvdmVycy9CYWdz                     TGFwdG9wIENhc2U   \n",
       "1           QmFraW5nIEN1cHMgYW5kIE1hdHM  QmFraW5nIE1hdHMgLyBCYWtpbmcgZGlzaA   \n",
       "5    TmF0dXJhbCBTd2VldGVuZXJzLyBTdWdhcg                      TW9uayBGcnVpdA   \n",
       "13  U2NydWJzIGFuZCBjbGVhbmluZyBjbG90aHM                            U2NydWJz   \n",
       "16          UGx1cyBzaXplIHdlYXIgZHJlc3M                             RHJlc3M   \n",
       "\n",
       "                            category  Corrected_Price  \n",
       "0                    RWxlY3Ryb25pY3M              NaN  \n",
       "1         a2l0Y2hpbmcgYW5kIGRpbmluZw              NaN  \n",
       "5                       Z3JvY2VyaWVz              NaN  \n",
       "13    SG91c2Vob2xkIGFuZCBDbGVhbmluZw              NaN  \n",
       "16  Q2xvdGhpbmcgYW5kIEFjY2Vzc29yaWVz              NaN  "
      ]
     },
     "execution_count": 10,
     "metadata": {},
     "output_type": "execute_result"
    }
   ],
   "source": [
    "df_null = df[~df['Corrected_Price'].notnull()]\n",
    "df_null.head()"
   ]
  },
  {
   "cell_type": "markdown",
   "metadata": {},
   "source": [
    "* Here we are fetching values which are null."
   ]
  },
  {
   "cell_type": "code",
   "execution_count": 11,
   "metadata": {},
   "outputs": [
    {
     "data": {
      "text/html": [
       "<div>\n",
       "<style scoped>\n",
       "    .dataframe tbody tr th:only-of-type {\n",
       "        vertical-align: middle;\n",
       "    }\n",
       "\n",
       "    .dataframe tbody tr th {\n",
       "        vertical-align: top;\n",
       "    }\n",
       "\n",
       "    .dataframe thead th {\n",
       "        text-align: right;\n",
       "    }\n",
       "</style>\n",
       "<table border=\"1\" class=\"dataframe\">\n",
       "  <thead>\n",
       "    <tr style=\"text-align: right;\">\n",
       "      <th></th>\n",
       "      <th>uuid</th>\n",
       "      <th>price_string</th>\n",
       "      <th>price_string_unf</th>\n",
       "      <th>product_type</th>\n",
       "      <th>level_1</th>\n",
       "      <th>category</th>\n",
       "      <th>Corrected_Price</th>\n",
       "    </tr>\n",
       "  </thead>\n",
       "  <tbody>\n",
       "    <tr>\n",
       "      <th>2</th>\n",
       "      <td>acbd66ff-79f8-467a-91f9-108a45af5626</td>\n",
       "      <td>$19.95</td>\n",
       "      <td>NaN</td>\n",
       "      <td>R3VtbWllcyB2aXRhbWlucyBhbmQgbWluZXJhbHMgZm9yIG...</td>\n",
       "      <td>SW1tdW5pdHkgZ3VtbWllcw</td>\n",
       "      <td>SGVhbHRo</td>\n",
       "      <td>19.95</td>\n",
       "    </tr>\n",
       "    <tr>\n",
       "      <th>3</th>\n",
       "      <td>963915d6-b2e3-4098-b242-9410593cf205</td>\n",
       "      <td>$92.00</td>\n",
       "      <td>NaN</td>\n",
       "      <td>U2VydW1z</td>\n",
       "      <td>RmFjZSBTZXJ1bQ</td>\n",
       "      <td>YmVhdXR5IGFuZCBwZXJzb25hbCBjYXJl</td>\n",
       "      <td>92.00</td>\n",
       "    </tr>\n",
       "    <tr>\n",
       "      <th>4</th>\n",
       "      <td>b5b68f3c-b1e0-40e5-8ee5-e2f7236c1daf</td>\n",
       "      <td>11.5</td>\n",
       "      <td>NaN</td>\n",
       "      <td>RWF0aW5nIFV0ZW5zaWxzL0N1dGxlcnk</td>\n",
       "      <td>Q2hvcHN0aWNrcw</td>\n",
       "      <td>a2l0Y2hpbmcgYW5kIGRpbmluZw</td>\n",
       "      <td>11.50</td>\n",
       "    </tr>\n",
       "    <tr>\n",
       "      <th>6</th>\n",
       "      <td>9599f1a9-d406-43eb-89f5-9b1c0af1ac9a</td>\n",
       "      <td>$24.99</td>\n",
       "      <td>NaN</td>\n",
       "      <td>TW9wcyBhbmQgYnJvb21z</td>\n",
       "      <td>TW9w</td>\n",
       "      <td>SG91c2Vob2xkIGFuZCBDbGVhbmluZw</td>\n",
       "      <td>24.99</td>\n",
       "    </tr>\n",
       "    <tr>\n",
       "      <th>7</th>\n",
       "      <td>35799087-f6f4-4ca2-abfe-cbb5c27d2f1a</td>\n",
       "      <td>$148.00</td>\n",
       "      <td>NaN</td>\n",
       "      <td>V29tZW5zIFBhbnRz</td>\n",
       "      <td>V29tZW5zIFJlZ3VsYXIvQ2FzdWFsIFBhbnRz</td>\n",
       "      <td>Q2xvdGhpbmcgYW5kIEFjY2Vzc29yaWVz</td>\n",
       "      <td>148.00</td>\n",
       "    </tr>\n",
       "  </tbody>\n",
       "</table>\n",
       "</div>"
      ],
      "text/plain": [
       "                                   uuid price_string price_string_unf  \\\n",
       "2  acbd66ff-79f8-467a-91f9-108a45af5626       $19.95              NaN   \n",
       "3  963915d6-b2e3-4098-b242-9410593cf205       $92.00              NaN   \n",
       "4  b5b68f3c-b1e0-40e5-8ee5-e2f7236c1daf         11.5              NaN   \n",
       "6  9599f1a9-d406-43eb-89f5-9b1c0af1ac9a       $24.99              NaN   \n",
       "7  35799087-f6f4-4ca2-abfe-cbb5c27d2f1a      $148.00              NaN   \n",
       "\n",
       "                                        product_type  \\\n",
       "2  R3VtbWllcyB2aXRhbWlucyBhbmQgbWluZXJhbHMgZm9yIG...   \n",
       "3                                           U2VydW1z   \n",
       "4                    RWF0aW5nIFV0ZW5zaWxzL0N1dGxlcnk   \n",
       "6                               TW9wcyBhbmQgYnJvb21z   \n",
       "7                                   V29tZW5zIFBhbnRz   \n",
       "\n",
       "                                level_1                          category  \\\n",
       "2                SW1tdW5pdHkgZ3VtbWllcw                          SGVhbHRo   \n",
       "3                        RmFjZSBTZXJ1bQ  YmVhdXR5IGFuZCBwZXJzb25hbCBjYXJl   \n",
       "4                        Q2hvcHN0aWNrcw        a2l0Y2hpbmcgYW5kIGRpbmluZw   \n",
       "6                                  TW9w    SG91c2Vob2xkIGFuZCBDbGVhbmluZw   \n",
       "7  V29tZW5zIFJlZ3VsYXIvQ2FzdWFsIFBhbnRz  Q2xvdGhpbmcgYW5kIEFjY2Vzc29yaWVz   \n",
       "\n",
       "   Corrected_Price  \n",
       "2            19.95  \n",
       "3            92.00  \n",
       "4            11.50  \n",
       "6            24.99  \n",
       "7           148.00  "
      ]
     },
     "execution_count": 11,
     "metadata": {},
     "output_type": "execute_result"
    }
   ],
   "source": [
    "df_not_null = df[df['Corrected_Price'].notnull()]\n",
    "df_not_null.head()"
   ]
  },
  {
   "cell_type": "markdown",
   "metadata": {
    "id": "W6bnhC6SvScG"
   },
   "source": [
    "### **Count Of Products**"
   ]
  },
  {
   "cell_type": "markdown",
   "metadata": {},
   "source": [
    "* Counted the products having null values and used value_counts to calculate only unique product counts."
   ]
  },
  {
   "cell_type": "code",
   "execution_count": 12,
   "metadata": {
    "colab": {
     "base_uri": "https://localhost:8080/"
    },
    "id": "iP9FaEEBX4Mr",
    "outputId": "9221d8f4-a06f-4073-a2d2-aa07fb1859ae"
   },
   "outputs": [
    {
     "name": "stdout",
     "output_type": "stream",
     "text": [
      "\n",
      " Number of product_type not having product prices are : \n",
      " V29tZW5zIHN3aW13ZWFy                      10673\n",
      "V29tZW5zIHdvcmt3ZWFyLyBvZmZpY2Ugd2Vhcg    10052\n",
      "VG9kZGxlcnMvbmV3Ym9ybiBiYWJpZXM            9718\n",
      "UGx1cyBzaXplIHdlYXI                        9113\n",
      "VmVoaWNsZSBUb3lz                           9070\n",
      "                                          ...  \n",
      "RXllIGxpbmVy                                718\n",
      "TGFwdG9wcw                                  708\n",
      "SG9uZXk                                     707\n",
      "TGFjdG9zZSBmcmVlIEJhYnkgRm9ybXVsYQ          696\n",
      "TW9pc3R1cml6ZXJz                            684\n",
      "Name: product_type, Length: 278, dtype: int64\n",
      "\n",
      " Number of level_1 not having product prices are : \n",
      " Rm9ybWFsIFN1aXRz                              4689\n",
      "U3dlYXRzaGlydA                                4441\n",
      "U29ja3M                                       3778\n",
      "Rm9ybWFsIFBhbnRz                              3728\n",
      "U3dlYXRlcg                                    3131\n",
      "                                              ... \n",
      "VmVnYW4gSG9uZXk                                707\n",
      "U2NydWIgYnJ1c2g                                700\n",
      "TGFjdG9zZSBJbnRvbGVyYW50IGJhYnkgZm9ybXVsYQ     696\n",
      "RXh0ZXJpb3IgUGFpbnQ                            690\n",
      "RmFjZSBNb2lzdHVyaXplcnM                        684\n",
      "Name: level_1, Length: 476, dtype: int64\n",
      "\n",
      " Number of category not having product prices are : \n",
      " Q2xvdGhpbmcgYW5kIEFjY2Vzc29yaWVz       156463\n",
      "Z3JvY2VyaWVz                            86103\n",
      "SG91c2Vob2xkIGFuZCBDbGVhbmluZw          66663\n",
      "YmVhdXR5IGFuZCBwZXJzb25hbCBjYXJl        54658\n",
      "SGVhbHRo                                53373\n",
      "VG95cyBhbmQgR2FtZXM                     45725\n",
      "cGV0IHN1cHBsaWVz                        44406\n",
      "QmFieWNhcmU                             43568\n",
      "VG9vbHMgYW5kIGhvbWUgaW1wcm92ZW1lbnQ     24393\n",
      "a2l0Y2hpbmcgYW5kIGRpbmluZw              19045\n",
      "RWxlY3Ryb25pY3M                         16105\n",
      "QXJ0IHN1cHBsaWVz                        10058\n",
      "b2ZmaWNlIHByb2R1Y3Rz                     6119\n",
      "Name: category, dtype: int64\n"
     ]
    }
   ],
   "source": [
    "for i in col[3:]:\n",
    "  print('\\n Number of {0} not having product prices are : \\n'.format(i),df_null[i].value_counts())"
   ]
  },
  {
   "cell_type": "code",
   "execution_count": 13,
   "metadata": {
    "colab": {
     "base_uri": "https://localhost:8080/"
    },
    "id": "QdoubIcGYd00",
    "outputId": "db44b2a8-7180-463d-9dd6-64cb9a6618f7"
   },
   "outputs": [
    {
     "name": "stdout",
     "output_type": "stream",
     "text": [
      "\n",
      " Number of product_type having product prices are: \n",
      " U2NydWJzIGFuZCBjbGVhbmluZyBjbG90aHM    10613\n",
      "d29tZW5zIE91dGVyd2Vhcg                 10042\n",
      "Q29va2luZyBVdGVuc2lscw                  8188\n",
      "V29tZW5zIFBhbnRz                        7008\n",
      "WW9nYSBBY2Nlc3Nvcmllcy8gR2Vhcg          6978\n",
      "                                       ...  \n",
      "RXllIE1hc2s                              720\n",
      "Qm9keSBMb3Rpb25zLyBNb2lzdHVyaXplcnM      712\n",
      "Qm9keXdhc2g                              705\n",
      "U3RvcmFnZQ                               699\n",
      "SnVtcHN1aXRzL092ZXJhbGw                  690\n",
      "Name: product_type, Length: 209, dtype: int64\n",
      "\n",
      " Number of level_1 having product prices are: \n",
      " U3Bvb24sIEtuaWZlIGFuZCBGb3Jr       4503\n",
      "TWVucyBTdHJhaWdodCBGaXQgamVhbnM    3867\n",
      "UHVmZmVyIEphY2tldA                 3763\n",
      "Q2xlYW5pbmcgY2xvdGg                3739\n",
      "UHVmZmVyIFZlc3Q                    3120\n",
      "                                   ... \n",
      "S25pdHRpbmcgbmVlZGxlcw              705\n",
      "Tm90ZWJvb2s                         703\n",
      "TW9w                                702\n",
      "QmFza2V0cw                          699\n",
      "SnVtcHN1aXRzL092ZXJhbGw             690\n",
      "Name: level_1, Length: 366, dtype: int64\n",
      "\n",
      " Number of category having product prices are: \n",
      " Q2xvdGhpbmcgYW5kIEFjY2Vzc29yaWVz       142172\n",
      "YmVhdXR5IGFuZCBwZXJzb25hbCBjYXJl        57360\n",
      "SG91c2Vob2xkIGFuZCBDbGVhbmluZw          53622\n",
      "Z3JvY2VyaWVz                            36927\n",
      "a2l0Y2hpbmcgYW5kIGRpbmluZw              25581\n",
      "SGVhbHRo                                22186\n",
      "VG9vbHMgYW5kIGhvbWUgaW1wcm92ZW1lbnQ     15246\n",
      "QXJ0IHN1cHBsaWVz                        14511\n",
      "VG95cyBhbmQgR2FtZXM                     14455\n",
      "cGV0IHN1cHBsaWVz                        12146\n",
      "b2ZmaWNlIHByb2R1Y3Rz                    11572\n",
      "RWxlY3Ryb25pY3M                          8442\n",
      "QmFieWNhcmU                              6910\n",
      "Name: category, dtype: int64\n"
     ]
    }
   ],
   "source": [
    "for i in col[3:]:\n",
    "  print('\\n Number of {0} having product prices are: \\n'.format(i),df_not_null[i].value_counts())"
   ]
  },
  {
   "cell_type": "markdown",
   "metadata": {
    "id": "j1vVsw49vkdi"
   },
   "source": [
    "### **Categories with average price of product**"
   ]
  },
  {
   "cell_type": "markdown",
   "metadata": {
    "id": "avPk9CDT44XV"
   },
   "source": [
    "* Used the groupby function to first group the data on the basis of 'category'.\n",
    "* Then calculate average of the 'Corrected_Price' for each category.\n",
    "\n"
   ]
  },
  {
   "cell_type": "code",
   "execution_count": 14,
   "metadata": {
    "id": "fEd9vgKxfkXR"
   },
   "outputs": [],
   "source": [
    "df_new = df.groupby(['category']).Corrected_Price.mean()"
   ]
  },
  {
   "cell_type": "code",
   "execution_count": 15,
   "metadata": {
    "colab": {
     "base_uri": "https://localhost:8080/"
    },
    "id": "V8jz4Tqpgugj",
    "outputId": "f75c588b-0126-45c5-b712-d43ba70318ab"
   },
   "outputs": [
    {
     "data": {
      "text/plain": [
       "category\n",
       "Q2xvdGhpbmcgYW5kIEFjY2Vzc29yaWVz       125.665667\n",
       "QXJ0IHN1cHBsaWVz                        18.987722\n",
       "QmFieWNhcmU                            160.514702\n",
       "RWxlY3Ryb25pY3M                         60.332584\n",
       "SG91c2Vob2xkIGFuZCBDbGVhbmluZw          76.081490\n",
       "SGVhbHRo                                32.521441\n",
       "VG95cyBhbmQgR2FtZXM                     32.419166\n",
       "VG9vbHMgYW5kIGhvbWUgaW1wcm92ZW1lbnQ     81.245786\n",
       "YmVhdXR5IGFuZCBwZXJzb25hbCBjYXJl        34.962463\n",
       "Z3JvY2VyaWVz                            10.541907\n",
       "a2l0Y2hpbmcgYW5kIGRpbmluZw              16.741958\n",
       "b2ZmaWNlIHByb2R1Y3Rz                    20.726301\n",
       "cGV0IHN1cHBsaWVz                        14.155223\n",
       "Name: Corrected_Price, dtype: float64"
      ]
     },
     "execution_count": 15,
     "metadata": {},
     "output_type": "execute_result"
    }
   ],
   "source": [
    "df_new"
   ]
  },
  {
   "cell_type": "code",
   "execution_count": null,
   "metadata": {
    "id": "UQVbDslV8T7h"
   },
   "outputs": [],
   "source": []
  }
 ],
 "metadata": {
  "colab": {
   "collapsed_sections": [],
   "name": "Bezen_Assignment.ipynb",
   "provenance": []
  },
  "kernelspec": {
   "display_name": "Python 3",
   "language": "python",
   "name": "python3"
  },
  "language_info": {
   "codemirror_mode": {
    "name": "ipython",
    "version": 3
   },
   "file_extension": ".py",
   "mimetype": "text/x-python",
   "name": "python",
   "nbconvert_exporter": "python",
   "pygments_lexer": "ipython3",
   "version": "3.8.8"
  }
 },
 "nbformat": 4,
 "nbformat_minor": 1
}
